{
 "cells": [
  {
   "cell_type": "code",
   "execution_count": 1,
   "metadata": {},
   "outputs": [
    {
     "name": "stdout",
     "output_type": "stream",
     "text": [
      "(10, 4) <--  right after reading Top_Ten_Boroughs\n",
      "   Unnamed: 0  Unnamed: 0.1              Boroughs  Avg_Over_20_Yrs_In_$\n",
      "0           0             0  Kensington & Chelsea              602028.0\n",
      "1           1             1           Westminster              429966.0\n",
      "2           2             2                Camden              378834.0\n",
      "3           3             3  Hammersmith & Fulham              369030.0\n",
      "4           4             4        City of London              330346.0\n",
      "5           5             5  Richmond upon Thames              316164.0\n",
      "6           6             6             Islington              295528.0\n",
      "7           7             7            Wandsworth              278677.0\n",
      "8           8             8          Inner London              251886.0\n",
      "9           9             9                Barnet              251429.0 <-- print df\n",
      "               Boroughs  Avg_Over_20_Yrs_In_$\n",
      "0  Kensington & Chelsea              602028.0\n",
      "1           Westminster              429966.0\n",
      "2                Camden              378834.0\n",
      "3  Hammersmith & Fulham              369030.0\n",
      "4        City of London              330346.0\n",
      "5  Richmond upon Thames              316164.0\n",
      "6             Islington              295528.0\n",
      "7            Wandsworth              278677.0\n",
      "8          Inner London              251886.0\n",
      "9                Barnet              251429.0 <-- print df\n"
     ]
    }
   ],
   "source": [
    "### Drops Unnamed column\n",
    "### Top_Ten_Boroughs.ipynb\n",
    "import pandas as pd\n",
    "import matplotlib.pyplot as plt \n",
    "import numpy as np\n",
    "\n",
    "     \n",
    "df = pd.read_csv(\"Top_Ten_Boroughs.csv\")\n",
    "print(df.shape, '<--  right after reading Top_Ten_Boroughs')\n",
    "print(df, '<-- print df')\n",
    "\n",
    "df = df.drop(df.loc[:, df.columns.str.contains('Unnamed: 0') ], axis=1,inplace=False)\n",
    "\n",
    "print(df, '<-- print df')\n",
    "\n",
    "df.to_csv(\"Top_Ten_Boroughs.csv\")"
   ]
  }
 ],
 "metadata": {
  "kernelspec": {
   "display_name": "Python 3",
   "language": "python",
   "name": "python3"
  },
  "language_info": {
   "codemirror_mode": {
    "name": "ipython",
    "version": 3
   },
   "file_extension": ".py",
   "mimetype": "text/x-python",
   "name": "python",
   "nbconvert_exporter": "python",
   "pygments_lexer": "ipython3",
   "version": "3.7.6"
  }
 },
 "nbformat": 4,
 "nbformat_minor": 4
}
