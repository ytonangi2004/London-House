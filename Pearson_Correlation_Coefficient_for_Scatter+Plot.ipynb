{
 "cells": [
  {
   "cell_type": "code",
   "execution_count": 3,
   "metadata": {},
   "outputs": [
    {
     "name": "stdout",
     "output_type": "stream",
     "text": [
      "(1.0, 0.0)\n"
     ]
    }
   ],
   "source": [
    "### Pearson_correlation_coefficient_for Scatter plot\n",
    "from scipy.stats import pearsonr\n",
    "import pandas as pd\n",
    "\n",
    "df = pd.read_csv(\"Boroughs_Meansr_With_Avg_To_max.csv\")\n",
    "\n",
    "# pearson correlation coefficient\n",
    "\n",
    "print(pearsonr(df[\"Avg_Over_20_Yrs\"], df[\"Avg_To_max\"]))\n",
    "\n",
    "### output \n",
    "### (1.0, 0.0)"
   ]
  }
 ],
 "metadata": {
  "kernelspec": {
   "display_name": "Python 3",
   "language": "python",
   "name": "python3"
  },
  "language_info": {
   "codemirror_mode": {
    "name": "ipython",
    "version": 3
   },
   "file_extension": ".py",
   "mimetype": "text/x-python",
   "name": "python",
   "nbconvert_exporter": "python",
   "pygments_lexer": "ipython3",
   "version": "3.7.6"
  }
 },
 "nbformat": 4,
 "nbformat_minor": 4
}
